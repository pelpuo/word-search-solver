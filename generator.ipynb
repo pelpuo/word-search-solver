{
 "metadata": {
  "language_info": {
   "codemirror_mode": {
    "name": "ipython",
    "version": 3
   },
   "file_extension": ".py",
   "mimetype": "text/x-python",
   "name": "python",
   "nbconvert_exporter": "python",
   "pygments_lexer": "ipython3",
   "version": "3.7.9-final"
  },
  "orig_nbformat": 2,
  "kernelspec": {
   "name": "python3",
   "display_name": "Python 3.7.9 64-bit ('tensor': conda)",
   "metadata": {
    "interpreter": {
     "hash": "f46e8ea2adf9ac18e660766b936bc0e6d73c35ab082c12cdd535c12ef189c4b1"
    }
   }
  }
 },
 "nbformat": 4,
 "nbformat_minor": 2,
 "cells": [
  {
   "cell_type": "code",
   "execution_count": 10,
   "metadata": {},
   "outputs": [],
   "source": [
    "import os\n",
    "from PIL import Image\n",
    "import random"
   ]
  },
  {
   "cell_type": "code",
   "execution_count": 52,
   "metadata": {},
   "outputs": [],
   "source": [
    "screenshots = \"screenshots\"\n",
    "save_dir = \"data\"\n",
    "puzzles = [\"puzzle_{}.png\".format(str(i+1)) for i in range(500)]\n"
   ]
  },
  {
   "cell_type": "code",
   "execution_count": 47,
   "metadata": {},
   "outputs": [],
   "source": [
    "# base = Image.open(\"base.png\")\n",
    "# screenshot = Image.open(\"screenshots/\"+puzzles[0])"
   ]
  },
  {
   "cell_type": "code",
   "execution_count": 64,
   "metadata": {},
   "outputs": [],
   "source": [
    "def paste(base, screenshot):\n",
    "    base = Image.open(\"base.png\")\n",
    "    screenshot_file = Image.open(\"{}/{}\".format(screenshots,screenshot))\n",
    "\n",
    "    img_width, img_height = base.size\n",
    "    # Old res = 845 * 735\n",
    "    new_width = random.randint(img_width - 60, img_width - 10)\n",
    "    new_height = int(new_width * 735/845)\n",
    "\n",
    "    screenshot_resized = screenshot_file.resize((new_width, new_height)) \n",
    "\n",
    "    width_border = (img_width - new_width)\n",
    "    height_border = (img_height - new_height)\n",
    "\n",
    "    width_start = random.randint(15, max(width_border, 20)) - 10 \n",
    "    height_start = random.randint(15, max(height_border, 20)) - 10\n",
    "\n",
    "    base.paste(screenshot_resized, (width_start, height_start))\n",
    "    filename = screenshot\n",
    "    base.save(os.path.join(save_dir, filename))\n",
    "\n",
    "# print(new_width)\n",
    "# print(new_height)\n",
    "\n",
    "# print(width_border)\n",
    "# print(height_border)\n",
    "\n"
   ]
  },
  {
   "cell_type": "code",
   "execution_count": 65,
   "metadata": {},
   "outputs": [],
   "source": [
    "for puzzle in puzzles:\n",
    "    paste(\"base.png\", puzzle)"
   ]
  },
  {
   "cell_type": "code",
   "execution_count": null,
   "metadata": {},
   "outputs": [],
   "source": []
  }
 ]
}