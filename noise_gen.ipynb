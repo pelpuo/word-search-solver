{
 "metadata": {
  "language_info": {
   "codemirror_mode": {
    "name": "ipython",
    "version": 3
   },
   "file_extension": ".py",
   "mimetype": "text/x-python",
   "name": "python",
   "nbconvert_exporter": "python",
   "pygments_lexer": "ipython3",
   "version": "3.7.9"
  },
  "orig_nbformat": 2,
  "kernelspec": {
   "name": "python3",
   "display_name": "Python 3.7.9 64-bit ('tensor': conda)",
   "metadata": {
    "interpreter": {
     "hash": "f46e8ea2adf9ac18e660766b936bc0e6d73c35ab082c12cdd535c12ef189c4b1"
    }
   }
  }
 },
 "nbformat": 4,
 "nbformat_minor": 2,
 "cells": [
  {
   "cell_type": "code",
   "execution_count": null,
   "metadata": {},
   "outputs": [],
   "source": [
    "from wand.image import Image\n",
    "import os\n",
    "import random"
   ]
  },
  {
   "cell_type": "code",
   "execution_count": null,
   "metadata": {},
   "outputs": [],
   "source": [
    "\n",
    "# new = Image(filename = \"data/puzzle_1.png\")\n",
    "# new.noise(\"gaussian\", attenuate=1.0)\n",
    "# new.save(filename= \"noisy1.jpg\")\n",
    "\n",
    "# new = Image(filename = \"data/puzzle_1.png\")\n",
    "# new.noise(\"impulse\", attenuate=0.3)\n",
    "# new.save(filename= \"noisy2.jpg\")\n",
    "\n",
    "# new = Image(filename = \"data/puzzle_1.png\")\n",
    "# new.noise(\"laplacian\", attenuate=1.0)\n",
    "# new.save(filename= \"noisy3.jpg\")\n",
    "\n",
    "# new = Image(filename = \"data/puzzle_1.png\")\n",
    "# new.noise(\"multiplicative_gaussian\", attenuate=0.5)\n",
    "# new.save(filename= \"noisy4.jpg\")\n",
    "\n",
    "# new = Image(filename = \"data/puzzle_1.png\")\n",
    "# new.noise(\"poisson\", attenuate=0.3)\n",
    "# new.save(filename= \"noisy5.jpg\")\n",
    "\n",
    "# new = Image(filename = \"data/puzzle_1.png\")\n",
    "# new.noise(\"random\", attenuate=1.0)\n",
    "# new.save(filename= \"noisy6.jpg\")\n",
    "\n",
    "new = Image(filename = \"data/puzzle_1.png\")\n",
    "new.rotational_blur(angle=5)\n",
    "new.save(filename= \"blur_1.jpg\")\n",
    "\n",
    "new = Image(filename = \"data/puzzle_1.png\")\n",
    "new.motion_blur(radius=16, sigma=8, angle=-45)\n",
    "new.save(filename= \"blur_2.jpg\")\n",
    "\n",
    "new = Image(filename = \"data/puzzle_1.png\")\n",
    "new.gaussian_blur(sigma=3)\n",
    "new.save(filename= \"blur_3.jpg\")\n",
    "\n",
    "new = Image(filename = \"data/puzzle_1.png\")\n",
    "new.adaptive_blur(radius=8, sigma=4)\n",
    "new.save(filename= \"blur_4.jpg\")\n",
    "\n",
    "new = Image(filename = \"data/puzzle_1.png\")\n",
    "new.blur(radius=0, sigma=3)\n",
    "new.save(filename= \"blur_4.jpg\")"
   ]
  },
  {
   "cell_type": "code",
   "execution_count": null,
   "metadata": {},
   "outputs": [],
   "source": [
    "noise_types = [\"gaussian\", \"impulse\", \"laplacian\", \"multiplicative_gaussian\", \"poisson\"]"
   ]
  },
  {
   "cell_type": "code",
   "execution_count": null,
   "metadata": {},
   "outputs": [],
   "source": [
    "def add_noise(image, noise,savename, savedir):\n",
    "    noisy = Image(filename = \"data/\" + image)\n",
    "    noisy.noise(noise, attenuate=1.0)\n",
    "    noisy.save(filename= os.path.join(savedir, savename))"
   ]
  },
  {
   "cell_type": "code",
   "execution_count": null,
   "metadata": {},
   "outputs": [],
   "source": [
    "images = os.listdir(\"data\")\n",
    "random.shuffle(images)\n",
    "\n",
    "for index, image in enumerate(images):\n",
    "    noise_prob = random.randint(0,100)/100\n",
    "    \n",
    "    noise = noise_types[random.randint(0, len(noise_types)-1)]\n",
    "\n",
    "    # print(\"{}, {}\".format(noise_prob, noise))\n",
    "\n",
    "    if noise_prob <= 0.6:\n",
    "        add_noise(image, noise, \"image_\" + str(index + 1) + \".jpg\", \"noisy\")\n",
    "\n",
    "    else:\n",
    "        not_noisy = Image(filename = \"data/\" + image)\n",
    "        not_noisy.save(filename= os.path.join(\"noisy\", \"image_\" + str(index + 1) + \".jpg\") )"
   ]
  },
  {
   "cell_type": "code",
   "execution_count": null,
   "metadata": {},
   "outputs": [],
   "source": []
  },
  {
   "cell_type": "code",
   "execution_count": null,
   "metadata": {},
   "outputs": [],
   "source": []
  }
 ]
}