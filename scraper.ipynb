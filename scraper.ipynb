{
 "metadata": {
  "language_info": {
   "codemirror_mode": {
    "name": "ipython",
    "version": 3
   },
   "file_extension": ".py",
   "mimetype": "text/x-python",
   "name": "python",
   "nbconvert_exporter": "python",
   "pygments_lexer": "ipython3",
   "version": "3.7.9-final"
  },
  "orig_nbformat": 2,
  "kernelspec": {
   "name": "python3",
   "display_name": "Python 3.7.9 64-bit ('tensor': conda)",
   "metadata": {
    "interpreter": {
     "hash": "f46e8ea2adf9ac18e660766b936bc0e6d73c35ab082c12cdd535c12ef189c4b1"
    }
   }
  }
 },
 "nbformat": 4,
 "nbformat_minor": 2,
 "cells": [
  {
   "cell_type": "code",
   "execution_count": 48,
   "metadata": {},
   "outputs": [],
   "source": [
    "from bs4 import BeautifulSoup \n",
    "import selenium\n",
    "import requests\n",
    "import random\n",
    "import math\n",
    "from selenium import webdriver\n",
    "import pyautogui\n",
    "import datetime\n",
    "import time\n",
    "from pynput.mouse import Button, Controller, Listener"
   ]
  },
  {
   "cell_type": "code",
   "execution_count": 49,
   "metadata": {},
   "outputs": [],
   "source": [
    "sites = [\"https://thewordsearch.com/\", \"http://word-search-puzzles.appspot.com/#\", \"https://lovattspuzzles.com/online-puzzles-competitions/play-daily-word-search-puzzle-online/\"]"
   ]
  },
  {
   "cell_type": "code",
   "execution_count": 50,
   "metadata": {},
   "outputs": [],
   "source": [
    "page = requests.get(sites[0])\n",
    "soup = BeautifulSoup(page.content)"
   ]
  },
  {
   "cell_type": "code",
   "execution_count": 4,
   "metadata": {},
   "outputs": [],
   "source": [
    "links = soup.find_all('a')\n",
    "\n",
    "\n",
    "def filter_links(link):\n",
    "    if \"title=\" in str(link):\n",
    "        if link[\"title\"].startswith(\"Word Search\"):\n",
    "            return True\n",
    "    return False\n",
    "\n",
    "filtered_links = filter(filter_links, links )\n",
    "\n",
    "puzzle_hrefs = []\n",
    "\n",
    "for element in filtered_links:\n",
    "    puzzle_hrefs.append(element[\"href\"])\n"
   ]
  },
  {
   "cell_type": "code",
   "execution_count": 47,
   "metadata": {},
   "outputs": [],
   "source": [
    "topics = soup.find_all(\"div\", class_='box cat')\n",
    "\n",
    "topic_links = []\n",
    "\n",
    "for div in topics:\n",
    "    topic_links.append(sites[0] + div.find(\"h3\").find(\"a\")[\"href\"][1:])\n"
   ]
  },
  {
   "cell_type": "code",
   "execution_count": 6,
   "metadata": {},
   "outputs": [],
   "source": [
    "def getPuzzleLinks(topic):\n",
    "    page = requests.get(topic)\n",
    "    soup = BeautifulSoup(page.content)\n",
    "\n",
    "    lis = soup.find_all('li')\n",
    "    hrefs = []\n",
    "    for li in lis:\n",
    "        hrefs.append(sites[0] + li.find(\"a\")[\"href\"][1:])\n",
    "    return hrefs"
   ]
  },
  {
   "cell_type": "code",
   "execution_count": 7,
   "metadata": {},
   "outputs": [],
   "source": [
    "all_links = []\n",
    "\n",
    "for topic in topic_links:\n",
    "    all_links += getPuzzleLinks(topic)"
   ]
  },
  {
   "cell_type": "code",
   "execution_count": 8,
   "metadata": {},
   "outputs": [],
   "source": [
    "random.shuffle(all_links)"
   ]
  },
  {
   "cell_type": "code",
   "execution_count": 9,
   "metadata": {},
   "outputs": [],
   "source": [
    "total_length = len(all_links)\n",
    "def get_link():\n",
    "    current = random.randint(0, total_length)\n",
    "    return all_links[current]\n"
   ]
  },
  {
   "cell_type": "code",
   "execution_count": 10,
   "metadata": {},
   "outputs": [],
   "source": [
    "PATH = \"C:\\Program Files (x86)\\chromedriver.exe\""
   ]
  },
  {
   "cell_type": "code",
   "execution_count": 11,
   "metadata": {},
   "outputs": [],
   "source": [
    "def navigate_to_link(driver):\n",
    "    link = get_link()\n",
    "    driver.get(link)\n",
    "    begin_btn = \"gBegin\"\n",
    "    begin = driver.find_element_by_id(begin_btn)\n",
    "    begin.click()"
   ]
  },
  {
   "cell_type": "code",
   "execution_count": 54,
   "metadata": {},
   "outputs": [],
   "source": [
    "screenWidth, screenHeight = pyautogui.size()\n",
    "currentMouseX, currentMouseY = pyautogui.position() \n",
    "def take_screenshot(index, x, y, w, h):\n",
    "    # x = 40 #random.randint(0,40)\n",
    "    # y = 250 #random.randint(164,250)\n",
    "    # w = 845 #x + random.randint(840,860)\n",
    "    # h = 735 #y + random.randint(755, 835) \n",
    "    date = datetime.datetime.now()\n",
    "    screenshot = pyautogui.screenshot(region=(x, y, w, h))\n",
    "    name = date.strftime(\"%H%M%S5f\")\n",
    "    screenshot.save(r'screenshots\\puzzle_{}.png'.format(str(index)))"
   ]
  },
  {
   "cell_type": "code",
   "execution_count": 46,
   "metadata": {},
   "outputs": [],
   "source": [
    "driver = webdriver.Chrome(PATH)\n",
    "driver.maximize_window()\n",
    "for i in range(500):\n",
    "    navigate_to_link(driver)\n",
    "    time.sleep(1)\n",
    "    take_screenshot(i+1, 40, 250, 845, 735)"
   ]
  },
  {
   "cell_type": "code",
   "execution_count": 60,
   "metadata": {},
   "outputs": [],
   "source": [
    "driver = webdriver.Chrome(PATH)\n",
    "driver.maximize_window()\n",
    "for i in range (500, 800):\n",
    "    driver.get(sites[1])\n",
    "    take_screenshot(i+1, 630, 75, 900, 720) \n",
    "    # refresh = driver.find_element_by_class_name(\"icon-arrows-cw\")\n",
    "    # refresh.click()\n",
    "    # time.sleep(1)\n",
    "    # yes = driver.find_element_by_id(\"btn_popover_ok\")\n",
    "    # yes.click()\n",
    "    # time.sleep(1)"
   ]
  },
  {
   "cell_type": "code",
   "execution_count": 52,
   "metadata": {},
   "outputs": [
    {
     "output_type": "stream",
     "name": "stdout",
     "text": [
      "Pressed at (634, 75)\n",
      "Released at (634, 75)\n",
      "Pressed at (1538, 79)\n",
      "Released at (1538, 79)\n",
      "Pressed at (619, 760)\n",
      "Released at (619, 760)\n",
      "Pressed at (1552, 756)\n",
      "Released at (1552, 756)\n",
      "Pressed at (423, 105)\n",
      "Released at (423, 105)\n",
      "Pressed at (423, 105)\n",
      "Released at (423, 105)\n",
      "\n",
      "KeyboardInterrupt\n",
      "\n"
     ]
    }
   ],
   "source": [
    "w = 800\n",
    "\n",
    "def on_click(x, y, button, pressed):\n",
    "    print('{0} at {1}'.format(\n",
    "        'Pressed' if pressed else 'Released',\n",
    "        (x, y)))\n",
    "    if not pressed:\n",
    "        # Stop listener\n",
    "        return False\n",
    "\n",
    "# ...or, in a non-blocking fashion:\n",
    "while 1:\n",
    "    with Listener( on_click=on_click) as listener:\n",
    "        listener.join()"
   ]
  },
  {
   "cell_type": "code",
   "execution_count": null,
   "metadata": {},
   "outputs": [],
   "source": []
  }
 ]
}